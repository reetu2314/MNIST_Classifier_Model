{
  "nbformat": 4,
  "nbformat_minor": 0,
  "metadata": {
    "colab": {
      "name": "mnist.ipynb",
      "provenance": []
    },
    "kernelspec": {
      "name": "python3",
      "display_name": "Python 3"
    },
    "language_info": {
      "name": "python"
    },
    "accelerator": "GPU"
  },
  "cells": [
    {
      "cell_type": "code",
      "metadata": {
        "id": "W07fi97juE1Z"
      },
      "source": [
        "# import all the lib\n",
        "import tensorflow\n",
        "import matplotlib.pyplot as plt\n",
        "from matplotlib import pyplot\n",
        "\n",
        "from tensorflow.keras.layers import Conv2D , MaxPool2D , Flatten , Dense , Dropout\n",
        "from tensorflow.keras.models import Sequential\n",
        "from tensorflow.keras.datasets import mnist"
      ],
      "execution_count": 2,
      "outputs": []
    },
    {
      "cell_type": "code",
      "metadata": {
        "colab": {
          "base_uri": "https://localhost:8080/"
        },
        "id": "WP4Fwh1uvdpe",
        "outputId": "b1178c25-3dec-4ee2-84a6-381666151e44"
      },
      "source": [
        "# loading the dataset\n",
        "(X_train , y_train) , (X_test , y_test ) = mnist.load_data()"
      ],
      "execution_count": 3,
      "outputs": [
        {
          "output_type": "stream",
          "text": [
            "Downloading data from https://storage.googleapis.com/tensorflow/tf-keras-datasets/mnist.npz\n",
            "11493376/11490434 [==============================] - 0s 0us/step\n",
            "11501568/11490434 [==============================] - 0s 0us/step\n"
          ],
          "name": "stdout"
        }
      ]
    },
    {
      "cell_type": "code",
      "metadata": {
        "colab": {
          "base_uri": "https://localhost:8080/"
        },
        "id": "-8XyCkf8vdtR",
        "outputId": "98887e72-710b-4930-81ec-2a5a6b6bb2da"
      },
      "source": [
        "print(\"X_train shape\", X_train.shape)\n",
        "print(\"y_train shape\", y_train.shape)\n",
        "print(\"X_test shape\", X_test.shape)\n",
        "print(\"y_test shape\", y_test.shape)"
      ],
      "execution_count": 4,
      "outputs": [
        {
          "output_type": "stream",
          "text": [
            "X_train shape (60000, 28, 28)\n",
            "y_train shape (60000,)\n",
            "X_test shape (10000, 28, 28)\n",
            "y_test shape (10000,)\n"
          ],
          "name": "stdout"
        }
      ]
    },
    {
      "cell_type": "markdown",
      "metadata": {
        "id": "7EqHa7d6nIhU"
      },
      "source": [
        "1. In above output 60000 data for training and 10000 for testing\n",
        "2. 28 rown and 28 columns\n",
        "3. Total 70000 images"
      ]
    },
    {
      "cell_type": "code",
      "metadata": {
        "colab": {
          "base_uri": "https://localhost:8080/"
        },
        "id": "3GRlWdkJuiNm",
        "outputId": "1ee584a9-cad4-4978-e3cd-16e3e5903254"
      },
      "source": [
        "X_train[0]\n",
        "\n",
        "\n",
        "# output -->>images in numbers 0 to 255\n",
        "# 0 --> white image and nearby 255 -->>black image so from 0 to 255 images color intensity will be increase from grey to black \n",
        "# Means we have the dataset of grey scale i.e black n white images"
      ],
      "execution_count": 5,
      "outputs": [
        {
          "output_type": "execute_result",
          "data": {
            "text/plain": [
              "array([[  0,   0,   0,   0,   0,   0,   0,   0,   0,   0,   0,   0,   0,\n",
              "          0,   0,   0,   0,   0,   0,   0,   0,   0,   0,   0,   0,   0,\n",
              "          0,   0],\n",
              "       [  0,   0,   0,   0,   0,   0,   0,   0,   0,   0,   0,   0,   0,\n",
              "          0,   0,   0,   0,   0,   0,   0,   0,   0,   0,   0,   0,   0,\n",
              "          0,   0],\n",
              "       [  0,   0,   0,   0,   0,   0,   0,   0,   0,   0,   0,   0,   0,\n",
              "          0,   0,   0,   0,   0,   0,   0,   0,   0,   0,   0,   0,   0,\n",
              "          0,   0],\n",
              "       [  0,   0,   0,   0,   0,   0,   0,   0,   0,   0,   0,   0,   0,\n",
              "          0,   0,   0,   0,   0,   0,   0,   0,   0,   0,   0,   0,   0,\n",
              "          0,   0],\n",
              "       [  0,   0,   0,   0,   0,   0,   0,   0,   0,   0,   0,   0,   0,\n",
              "          0,   0,   0,   0,   0,   0,   0,   0,   0,   0,   0,   0,   0,\n",
              "          0,   0],\n",
              "       [  0,   0,   0,   0,   0,   0,   0,   0,   0,   0,   0,   0,   3,\n",
              "         18,  18,  18, 126, 136, 175,  26, 166, 255, 247, 127,   0,   0,\n",
              "          0,   0],\n",
              "       [  0,   0,   0,   0,   0,   0,   0,   0,  30,  36,  94, 154, 170,\n",
              "        253, 253, 253, 253, 253, 225, 172, 253, 242, 195,  64,   0,   0,\n",
              "          0,   0],\n",
              "       [  0,   0,   0,   0,   0,   0,   0,  49, 238, 253, 253, 253, 253,\n",
              "        253, 253, 253, 253, 251,  93,  82,  82,  56,  39,   0,   0,   0,\n",
              "          0,   0],\n",
              "       [  0,   0,   0,   0,   0,   0,   0,  18, 219, 253, 253, 253, 253,\n",
              "        253, 198, 182, 247, 241,   0,   0,   0,   0,   0,   0,   0,   0,\n",
              "          0,   0],\n",
              "       [  0,   0,   0,   0,   0,   0,   0,   0,  80, 156, 107, 253, 253,\n",
              "        205,  11,   0,  43, 154,   0,   0,   0,   0,   0,   0,   0,   0,\n",
              "          0,   0],\n",
              "       [  0,   0,   0,   0,   0,   0,   0,   0,   0,  14,   1, 154, 253,\n",
              "         90,   0,   0,   0,   0,   0,   0,   0,   0,   0,   0,   0,   0,\n",
              "          0,   0],\n",
              "       [  0,   0,   0,   0,   0,   0,   0,   0,   0,   0,   0, 139, 253,\n",
              "        190,   2,   0,   0,   0,   0,   0,   0,   0,   0,   0,   0,   0,\n",
              "          0,   0],\n",
              "       [  0,   0,   0,   0,   0,   0,   0,   0,   0,   0,   0,  11, 190,\n",
              "        253,  70,   0,   0,   0,   0,   0,   0,   0,   0,   0,   0,   0,\n",
              "          0,   0],\n",
              "       [  0,   0,   0,   0,   0,   0,   0,   0,   0,   0,   0,   0,  35,\n",
              "        241, 225, 160, 108,   1,   0,   0,   0,   0,   0,   0,   0,   0,\n",
              "          0,   0],\n",
              "       [  0,   0,   0,   0,   0,   0,   0,   0,   0,   0,   0,   0,   0,\n",
              "         81, 240, 253, 253, 119,  25,   0,   0,   0,   0,   0,   0,   0,\n",
              "          0,   0],\n",
              "       [  0,   0,   0,   0,   0,   0,   0,   0,   0,   0,   0,   0,   0,\n",
              "          0,  45, 186, 253, 253, 150,  27,   0,   0,   0,   0,   0,   0,\n",
              "          0,   0],\n",
              "       [  0,   0,   0,   0,   0,   0,   0,   0,   0,   0,   0,   0,   0,\n",
              "          0,   0,  16,  93, 252, 253, 187,   0,   0,   0,   0,   0,   0,\n",
              "          0,   0],\n",
              "       [  0,   0,   0,   0,   0,   0,   0,   0,   0,   0,   0,   0,   0,\n",
              "          0,   0,   0,   0, 249, 253, 249,  64,   0,   0,   0,   0,   0,\n",
              "          0,   0],\n",
              "       [  0,   0,   0,   0,   0,   0,   0,   0,   0,   0,   0,   0,   0,\n",
              "          0,  46, 130, 183, 253, 253, 207,   2,   0,   0,   0,   0,   0,\n",
              "          0,   0],\n",
              "       [  0,   0,   0,   0,   0,   0,   0,   0,   0,   0,   0,   0,  39,\n",
              "        148, 229, 253, 253, 253, 250, 182,   0,   0,   0,   0,   0,   0,\n",
              "          0,   0],\n",
              "       [  0,   0,   0,   0,   0,   0,   0,   0,   0,   0,  24, 114, 221,\n",
              "        253, 253, 253, 253, 201,  78,   0,   0,   0,   0,   0,   0,   0,\n",
              "          0,   0],\n",
              "       [  0,   0,   0,   0,   0,   0,   0,   0,  23,  66, 213, 253, 253,\n",
              "        253, 253, 198,  81,   2,   0,   0,   0,   0,   0,   0,   0,   0,\n",
              "          0,   0],\n",
              "       [  0,   0,   0,   0,   0,   0,  18, 171, 219, 253, 253, 253, 253,\n",
              "        195,  80,   9,   0,   0,   0,   0,   0,   0,   0,   0,   0,   0,\n",
              "          0,   0],\n",
              "       [  0,   0,   0,   0,  55, 172, 226, 253, 253, 253, 253, 244, 133,\n",
              "         11,   0,   0,   0,   0,   0,   0,   0,   0,   0,   0,   0,   0,\n",
              "          0,   0],\n",
              "       [  0,   0,   0,   0, 136, 253, 253, 253, 212, 135, 132,  16,   0,\n",
              "          0,   0,   0,   0,   0,   0,   0,   0,   0,   0,   0,   0,   0,\n",
              "          0,   0],\n",
              "       [  0,   0,   0,   0,   0,   0,   0,   0,   0,   0,   0,   0,   0,\n",
              "          0,   0,   0,   0,   0,   0,   0,   0,   0,   0,   0,   0,   0,\n",
              "          0,   0],\n",
              "       [  0,   0,   0,   0,   0,   0,   0,   0,   0,   0,   0,   0,   0,\n",
              "          0,   0,   0,   0,   0,   0,   0,   0,   0,   0,   0,   0,   0,\n",
              "          0,   0],\n",
              "       [  0,   0,   0,   0,   0,   0,   0,   0,   0,   0,   0,   0,   0,\n",
              "          0,   0,   0,   0,   0,   0,   0,   0,   0,   0,   0,   0,   0,\n",
              "          0,   0]], dtype=uint8)"
            ]
          },
          "metadata": {},
          "execution_count": 5
        }
      ]
    },
    {
      "cell_type": "code",
      "metadata": {
        "colab": {
          "base_uri": "https://localhost:8080/",
          "height": 282
        },
        "id": "euQd3uFau0gz",
        "outputId": "cb2a8635-097a-4797-ae18-021ce2ab4e75"
      },
      "source": [
        "# visualisating the image data\n",
        "\n",
        "plt.imshow(X_train[20])\n",
        "\n",
        "\n",
        "\n",
        "# output>> image converted into pixels from numbers and image is not clear bcos its resolution is 28 * 28 pixels"
      ],
      "execution_count": 6,
      "outputs": [
        {
          "output_type": "execute_result",
          "data": {
            "text/plain": [
              "<matplotlib.image.AxesImage at 0x7fea6471f890>"
            ]
          },
          "metadata": {},
          "execution_count": 6
        },
        {
          "output_type": "display_data",
          "data": {
            "image/png": "[encoded data removed]",
            "text/plain": [
              "<Figure size 432x288 with 1 Axes>"
            ]
          },
          "metadata": {
            "needs_background": "light"
          }
        }
      ]
    },
    {
      "cell_type": "code",
      "metadata": {
        "colab": {
          "base_uri": "https://localhost:8080/",
          "height": 256
        },
        "id": "5dX0Q9j2sOYD",
        "outputId": "2fa5f87c-6b7f-45a9-c497-4e3b25d8d062"
      },
      "source": [
        "# plot first few images\n",
        "plt.figure(figsize=(10,10))\n",
        "for i in range(9):\n",
        "\t# define subplot\n",
        "\t plt.subplot(5,5,i+1)\n",
        "\t# plot raw pixel data\n",
        "\t plt.imshow(X_train[i] , cmap='Greys')\n",
        "  \n",
        "\n",
        "  # plt.subplot(330+1+i)"
      ],
      "execution_count": 7,
      "outputs": [
        {
          "output_type": "display_data",
          "data": {
            "image/png": "[encoded data removed]",
            "text/plain": [
              "<Figure size 720x720 with 9 Axes>"
            ]
          },
          "metadata": {
            "needs_background": "light"
          }
        }
      ]
    },
    {
      "cell_type": "code",
      "metadata": {
        "id": "9YqndBTuxMty"
      },
      "source": [
        "# reshape dataset to have a single channel\n",
        "\n",
        "X_train = X_train.reshape((X_train.shape[0], 28, 28, 1))\n",
        "X_test = X_test.reshape((X_test.shape[0], 28, 28, 1))"
      ],
      "execution_count": 8,
      "outputs": []
    },
    {
      "cell_type": "code",
      "metadata": {
        "id": "fL0JEKC5vd75"
      },
      "source": [
        "# Feature scaling\n",
        "# nomralise the image --->>range is 0-255 ->>converting the images into 0 to 1 range\n",
        "# It will make the process very easy and fast so that out neural network can easily learn the data\n",
        "\n",
        "X_train = X_train/255 \n",
        "X_test = X_test/255"
      ],
      "execution_count": 9,
      "outputs": []
    },
    {
      "cell_type": "code",
      "metadata": {
        "id": "3wQCahAivd_L"
      },
      "source": [
        "# Now build the neural network \n",
        "\n",
        "1. model architecture\n",
        "2. compile\n",
        "3. fit or train the model"
      ],
      "execution_count": 11,
      "outputs": []
    },
    {
      "cell_type": "code",
      "metadata": {
        "id": "rZfvFU9fveCj"
      },
      "source": [
        "# 1. Model architecture\n",
        "\n",
        "model = Sequential()\n",
        "\n",
        "\n",
        "# conv layer 1\n",
        "model.add(Conv2D(10 , 3 , activation='relu' , kernel_initializer='he_normal' , input_shape = (28,28,1)))     \n",
        "model.add(MaxPool2D())     #pool\n",
        "\n",
        "# conv layer 2\n",
        "model.add(Conv2D(20 , 3 , activation='relu' , kernel_initializer='he_uniform'))\n",
        "model.add(MaxPool2D())\n",
        "\n",
        "# conv layer 3\n",
        "model.add(Conv2D(40 , 3 , activation='relu' , kernel_initializer='he_uniform'))\n",
        "model.add(MaxPool2D())\n",
        "\n",
        "# flatten\n",
        "model.add(Flatten())\n",
        "# As we have 2D image so Flattening is converting the data into a 1-dimensional array for inputting it to the next layer.\n",
        "# Flattening is merging all visible layers into the background layer to reduce file size.\n",
        "\n",
        "# hidden layer 1\n",
        "model.add(Dense(128, activation='sigmoid'))\n",
        "\n",
        "# hidden layer 2\n",
        "model.add(Dense(64, activation='relu'))\n",
        "\n",
        "# hidden layer 3\n",
        "model.add(Dense(32, activation='sigmoid'))\n",
        "\n",
        "#output\n",
        "model.add(Dense(10, activation='softmax'))         # we take 10 neurons bcos we have 10 classes of numbers (0-9)\n",
        "\n",
        "\n",
        "# Relu ---> If our neural network will give the output so we get +ve values as well as -ve values so this relu func will take +ve values as +ve and (0 , -ve) values will give as 0 value\n",
        "          # output will give the probability with 10 classes of numbers\n",
        "# Relu will take all the +ve inputs and cancel -ve inputs\n",
        "\n",
        "# Dense -->> It insure that each neuron in the previous layer is connected to every neuron in next layer so basically we are creating a fully connected neural network.\n",
        "# model.add(Dense(128, activation='sigmoid')) -->>>128 neurons\n",
        "\n",
        "# softmax -->> lets say we have 10 outputs classes , for each class the prob will be send as the output between 0 to 1 so all the neurons will give the \n",
        "              # output into prob and 1 with the max prob will be picked \n",
        "\n"
      ],
      "execution_count": 12,
      "outputs": []
    },
    {
      "cell_type": "code",
      "metadata": {
        "id": "CYMYgK4PveF0"
      },
      "source": [
        "# 2.compile\n",
        "\n",
        "model.compile(optimizer='adam' , loss = 'sparse_categorical_crossentropy' , metrics = ['accuracy'])\n",
        "\n",
        "\n",
        "# adam -->>> modified version of gradient descent algorithm\n",
        "# sparse_categorical_crossentropy --->>becos we are going to perform classification problems(10 class)\n",
        "# binary_crossentropy -->> binary class problems"
      ],
      "execution_count": 13,
      "outputs": []
    },
    {
      "cell_type": "code",
      "metadata": {
        "colab": {
          "base_uri": "https://localhost:8080/"
        },
        "id": "HeULTXcoveJg",
        "outputId": "0685223a-fa74-496d-bf65-1874add886b9"
      },
      "source": [
        "# 3. fit or train the model\n",
        "\n",
        "model.fit(X_train , y_train , epochs= 5 , batch_size=32)\n",
        "\n",
        "# epochs means iteraions\n",
        "# epochs = 1 -->> means lets suppose we have 60000 images so 1 epochs means 60000 images will come to our neural network n will train on dataset and \n",
        "# if we want that our neural network will be good learn then we will increase the epochs values -->> suppose epochs values we wil take 5 then complete dataset will \n",
        "# come on neural networks and then neural network will train on complete dataset and the again will come whole dataset n will trained \n",
        "# so iteration will be done for 5 times so that our accuracy will be be better bcos of increasing the epochs"
      ],
      "execution_count": 14,
      "outputs": [
        {
          "output_type": "stream",
          "text": [
            "Epoch 1/5\n",
            "1875/1875 [==============================] - 37s 4ms/step - loss: 0.5255 - accuracy: 0.8584\n",
            "Epoch 2/5\n",
            "1875/1875 [==============================] - 8s 4ms/step - loss: 0.1521 - accuracy: 0.9559\n",
            "Epoch 3/5\n",
            "1875/1875 [==============================] - 8s 4ms/step - loss: 0.1096 - accuracy: 0.9686\n",
            "Epoch 4/5\n",
            "1875/1875 [==============================] - 8s 4ms/step - loss: 0.0903 - accuracy: 0.9726\n",
            "Epoch 5/5\n",
            "1875/1875 [==============================] - 8s 4ms/step - loss: 0.0774 - accuracy: 0.9764\n"
          ],
          "name": "stdout"
        },
        {
          "output_type": "execute_result",
          "data": {
            "text/plain": [
              "<keras.callbacks.History at 0x7fea6047d910>"
            ]
          },
          "metadata": {},
          "execution_count": 14
        }
      ]
    },
    {
      "cell_type": "code",
      "metadata": {
        "colab": {
          "base_uri": "https://localhost:8080/"
        },
        "id": "5RifGBhPveM8",
        "outputId": "760727f6-02c5-440f-bdbf-7618c977f3aa"
      },
      "source": [
        "# test and evaluate the model\n",
        "\n",
        "model.evaluate(X_test , y_test)"
      ],
      "execution_count": 15,
      "outputs": [
        {
          "output_type": "stream",
          "text": [
            "313/313 [==============================] - 1s 3ms/step - loss: 0.0743 - accuracy: 0.9786\n"
          ],
          "name": "stdout"
        },
        {
          "output_type": "execute_result",
          "data": {
            "text/plain": [
              "[0.0743432492017746, 0.978600025177002]"
            ]
          },
          "metadata": {},
          "execution_count": 15
        }
      ]
    },
    {
      "cell_type": "code",
      "metadata": {
        "id": "p_gtpdXYveQZ"
      },
      "source": [
        "# In above output -->>\n",
        "# accuracy of training 97% and testing acc 97%\n",
        "# both accuracy are close to each other so we can say that our model is not overfitting and we can deploy it now."
      ],
      "execution_count": null,
      "outputs": []
    },
    {
      "cell_type": "code",
      "metadata": {
        "id": "BZpK8DkLveT4"
      },
      "source": [
        "#  Predict the data\n",
        "\n",
        "y_pred = model.predict(X_test)"
      ],
      "execution_count": 16,
      "outputs": []
    },
    {
      "cell_type": "code",
      "metadata": {
        "colab": {
          "base_uri": "https://localhost:8080/"
        },
        "id": "-go8sAl2veXT",
        "outputId": "ed18c2ec-0051-4bff-dfe6-a9354162d3be"
      },
      "source": [
        "y_pred[0]\n",
        "\n",
        "# output -->> we got the output value in probability form of 10 classes"
      ],
      "execution_count": 17,
      "outputs": [
        {
          "output_type": "execute_result",
          "data": {
            "text/plain": [
              "array([1.4483051e-04, 1.5677603e-04, 2.7929861e-04, 3.5909005e-04,\n",
              "       1.7877700e-04, 2.6141290e-06, 3.2111677e-06, 9.9848700e-01,\n",
              "       2.6548969e-05, 3.6184723e-04], dtype=float32)"
            ]
          },
          "metadata": {},
          "execution_count": 17
        }
      ]
    },
    {
      "cell_type": "code",
      "metadata": {
        "colab": {
          "base_uri": "https://localhost:8080/"
        },
        "id": "f3Bwuu3w6wKG",
        "outputId": "663a3c24-22e0-4ba4-a808-6552c67d90b4"
      },
      "source": [
        "# 9.9820650e-01 -- >>for 7th class or 7th index our model predict 98 % probability\n",
        "\n",
        "import numpy as np\n",
        "print(np.argmax(y_pred[0]))\n",
        "\n",
        "\n",
        "# np.argmax() -->> it will tell us on which index we have max prob value and it will give us that index\n",
        "# As we can see that we got 7 in output so it is clear that we hav max prob value at 7th index i.e in above we got 98% in 7th index.\n",
        "\n",
        "# in above class we can see that on 7th index"
      ],
      "execution_count": 18,
      "outputs": [
        {
          "output_type": "stream",
          "text": [
            "7\n"
          ],
          "name": "stdout"
        }
      ]
    },
    {
      "cell_type": "code",
      "metadata": {
        "colab": {
          "base_uri": "https://localhost:8080/"
        },
        "id": "iQ1iyHLB6wFc",
        "outputId": "f3d29cab-b57e-4aad-f57e-12a169cdab9c"
      },
      "source": [
        "# Lets check in actual what is the value of 1st image\n",
        "\n",
        "y_test[0]\n",
        "\n",
        "\n",
        "#  Here also we got value 7th index and our model also predict above(np.argmax(y_pred[0])) same 7th index so that means our prediction is working good."
      ],
      "execution_count": 19,
      "outputs": [
        {
          "output_type": "execute_result",
          "data": {
            "text/plain": [
              "7"
            ]
          },
          "metadata": {},
          "execution_count": 19
        }
      ]
    },
    {
      "cell_type": "code",
      "metadata": {
        "colab": {
          "base_uri": "https://localhost:8080/"
        },
        "id": "pvomqdCi6wDE",
        "outputId": "babcde5a-4cb4-477c-a50c-f9eec30bde85"
      },
      "source": [
        "# lets see the single image prediction-->>>\n",
        "\n",
        "image_row = 100\n",
        "print(np.argmax(y_pred[image_row]))"
      ],
      "execution_count": 20,
      "outputs": [
        {
          "output_type": "stream",
          "text": [
            "6\n"
          ],
          "name": "stdout"
        }
      ]
    },
    {
      "cell_type": "code",
      "metadata": {
        "colab": {
          "base_uri": "https://localhost:8080/",
          "height": 282
        },
        "id": "hP7czIst6v_q",
        "outputId": "a841868a-1cf5-4ee8-97cc-13726aacae03"
      },
      "source": [
        "# testing the prediction\n",
        "\n",
        "plt.imshow((np.squeeze(X_test[image_row])))\n",
        "print(y_test[image_row])"
      ],
      "execution_count": 21,
      "outputs": [
        {
          "output_type": "stream",
          "text": [
            "6\n"
          ],
          "name": "stdout"
        },
        {
          "output_type": "display_data",
          "data": {
            "image/png": "[encoded data removed]",
            "text/plain": [
              "<Figure size 432x288 with 1 Axes>"
            ]
          },
          "metadata": {
            "needs_background": "light"
          }
        }
      ]
    },
    {
      "cell_type": "code",
      "metadata": {
        "colab": {
          "base_uri": "https://localhost:8080/",
          "height": 392
        },
        "id": "AATtFAWE6v9C",
        "outputId": "552a175b-9513-4466-9401-63557c577bdf"
      },
      "source": [
        "plt.figure(figsize=(16,16))\n",
        "for i in range(9):\n",
        "  plt.subplot(5,5,i+1)\n",
        "  plt.imshow((np.squeeze(X_test[i])))\n",
        "  plt.axis('off')\n",
        "  plt.title('Actual = {} \\n Predict = {}'.format((y_test[i]) ,np.argmax(y_pred[i])))"
      ],
      "execution_count": 27,
      "outputs": [
        {
          "output_type": "display_data",
          "data": {
            "image/png": "[encoded data removed]",
            "text/plain": [
              "<Figure size 1152x1152 with 9 Axes>"
            ]
          },
          "metadata": {
            "needs_background": "light"
          }
        }
      ]
    },
    {
      "cell_type": "code",
      "metadata": {
        "id": "Gs_M5ahP6v2j"
      },
      "source": [
        "#  Save the model\n",
        "\n",
        "model.save('MNIST_classifier.h5')"
      ],
      "execution_count": 28,
      "outputs": []
    },
    {
      "cell_type": "code",
      "metadata": {
        "id": "deDshgwV6vvU"
      },
      "source": [
        "#  Next step will be load the model\n",
        "\n",
        "load_model = tensorflow.keras.models.load_model('/content/MNIST_classifier.h5')"
      ],
      "execution_count": 29,
      "outputs": []
    },
    {
      "cell_type": "code",
      "metadata": {
        "colab": {
          "base_uri": "https://localhost:8080/"
        },
        "id": "4X5S2cN16vf_",
        "outputId": "abb4ea83-aa82-48f5-f66f-213204571603"
      },
      "source": [
        "load_model.predict(X_test)"
      ],
      "execution_count": 30,
      "outputs": [
        {
          "output_type": "execute_result",
          "data": {
            "text/plain": [
              "array([[1.4483051e-04, 1.5677603e-04, 2.7929861e-04, ..., 9.9848700e-01,\n",
              "        2.6548969e-05, 3.6184723e-04],\n",
              "       [1.1131496e-03, 3.1128436e-04, 9.9457550e-01, ..., 1.1305691e-03,\n",
              "        1.1526472e-03, 1.8727063e-04],\n",
              "       [3.6604801e-05, 9.9925250e-01, 8.6836757e-05, ..., 1.7210329e-04,\n",
              "        1.1534684e-04, 9.1160791e-06],\n",
              "       ...,\n",
              "       [2.7408931e-05, 1.1915853e-05, 5.8150792e-05, ..., 2.5624636e-04,\n",
              "        1.0767648e-04, 7.6592510e-04],\n",
              "       [4.0528562e-04, 1.2428788e-05, 2.2716822e-05, ..., 2.3790944e-06,\n",
              "        5.0258171e-04, 2.2676574e-04],\n",
              "       [5.9207791e-04, 3.9342151e-05, 1.2063589e-06, ..., 4.3571440e-06,\n",
              "        4.8317356e-04, 2.6227974e-05]], dtype=float32)"
            ]
          },
          "metadata": {},
          "execution_count": 30
        }
      ]
    },
    {
      "cell_type": "code",
      "metadata": {
        "id": "SoCvSvF1veec"
      },
      "source": [
        ""
      ],
      "execution_count": null,
      "outputs": []
    },
    {
      "cell_type": "code",
      "metadata": {
        "id": "OHyxXvuQvehw"
      },
      "source": [
        ""
      ],
      "execution_count": null,
      "outputs": []
    },
    {
      "cell_type": "code",
      "metadata": {
        "id": "VqaXdkfbveln"
      },
      "source": [
        ""
      ],
      "execution_count": null,
      "outputs": []
    },
    {
      "cell_type": "code",
      "metadata": {
        "id": "QDlg5VD-veo-"
      },
      "source": [
        ""
      ],
      "execution_count": null,
      "outputs": []
    },
    {
      "cell_type": "code",
      "metadata": {
        "id": "mYBABDjQvess"
      },
      "source": [
        ""
      ],
      "execution_count": null,
      "outputs": []
    },
    {
      "cell_type": "code",
      "metadata": {
        "id": "eDtKxvZlvewT"
      },
      "source": [
        ""
      ],
      "execution_count": null,
      "outputs": []
    },
    {
      "cell_type": "code",
      "metadata": {
        "id": "g75DQ4lXve0P"
      },
      "source": [
        ""
      ],
      "execution_count": null,
      "outputs": []
    },
    {
      "cell_type": "code",
      "metadata": {
        "id": "Ea9JAocAvfAq"
      },
      "source": [
        ""
      ],
      "execution_count": null,
      "outputs": []
    }
  ]
}
